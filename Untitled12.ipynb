{
  "nbformat": 4,
  "nbformat_minor": 0,
  "metadata": {
    "colab": {
      "provenance": []
    },
    "kernelspec": {
      "name": "python3",
      "display_name": "Python 3"
    },
    "language_info": {
      "name": "python"
    }
  },
  "cells": [
    {
      "cell_type": "code",
      "execution_count": null,
      "metadata": {
        "id": "-cgWQ7RTiSyD"
      },
      "outputs": [],
      "source": [
        "!pip install python-telegram-bot"
      ]
    },
    {
      "cell_type": "code",
      "source": [
        "from telegram.ext.updater import Updater\n",
        "from telegram.update import Update\n",
        "from telegram.ext.callbackcontext import CallbackContext\n",
        "from telegram.ext.commandhandler import CommandHandler\n",
        "from telegram.ext.messagehandler import MessageHandler\n",
        "from telegram.ext.filters import Filters\n"
      ],
      "metadata": {
        "id": "BTGTPKCoiplE"
      },
      "execution_count": null,
      "outputs": []
    },
    {
      "cell_type": "code",
      "source": [
        "updater = Updater(\"5619422963:AAFecldSSS-zRekNWifk0XNVKaJpP_DBJHY\",\n",
        "\t\t\t\tuse_context=True)\n"
      ],
      "metadata": {
        "id": "jU_iL7MNitQc"
      },
      "execution_count": null,
      "outputs": []
    },
    {
      "cell_type": "code",
      "source": [
        "def start(update: Update, context: CallbackContext):\n",
        "    update.message.reply_text(\n",
        "        \"Hello sir, Welcome to the Official KARE CHATBOT.Please write\\\n",
        "        /help to see the commands available.\")\n",
        "  \n",
        "def help(update: Update, context: CallbackContext):\n",
        "    update.message.reply_text(\"\"\"Available Commands :-\n",
        "    /apply - To apply admission for the Admissions 2022-23\n",
        "    /contactus - To Contact / Reach Us\n",
        "    /login - To redirect to students login\n",
        "    /alumini - To get the details of our Kalasalingamites Alumini\"\"\")\n",
        "  \n",
        "  \n",
        "def apply(update: Update, context: CallbackContext):\n",
        "    update.message.reply_text(\"Click Here => https://kalvi.kalasalingam.ac.in/klustudentportal/application/loginManager/youLoginKLU.jsp \")\n",
        "  \n",
        "  \n",
        "def contactus(update: Update, context: CallbackContext):\n",
        "    update.message.reply_text(\"Contact / Reach Us\\nKALASALINGAM ACADEMY OF RESEARCH AND EDUCATION\\n(Deemed to be University Under Section 3 of UGC Act 1956)\\nAnand Nagar, Krishnankoil-626126,\\nEmail: info@kalasalingam.ac.in\\nPhone: 04563289042/43/44/52\\nFax: 04563289322\\nFor Admissions Please Contact:\\nToll Free Nos :18004257884\")\n",
        "  \n",
        "  \n",
        "def login(update: Update, context: CallbackContext):\n",
        "    update.message.reply_text(\n",
        "        \"Click Here =>  https://sis.kalasalingam.ac.in/login\")\n",
        "  \n",
        "  \n",
        "def alumini(update: Update, context: CallbackContext):\n",
        "    update.message.reply_text(\"Get News & Updates about Kalasalingamites\\n\\nPeople use Alma Connect to get help ranging from getting referral for jobs, advice for careers and other recommendations\\n\\nDiscover Kalasalingamites via pre curated lists Click Here =>  https://kalasalingam.almaconnect.com/\")\n",
        "  \n",
        "  \n",
        "def unknown(update: Update, context: CallbackContext):\n",
        "    update.message.reply_text(\n",
        "        \"Sorry '%s' is not a valid command\" % update.message.text)\n",
        "  \n",
        "  \n",
        "def unknown_text(update: Update, context: CallbackContext):\n",
        "    update.message.reply_text(\n",
        "        \"Sorry I can't recognize you , you said '%s'\" % update.message.text)\n",
        "  "
      ],
      "metadata": {
        "id": "7MUKXsPakGAD"
      },
      "execution_count": null,
      "outputs": []
    },
    {
      "cell_type": "code",
      "source": [
        "updater.dispatcher.add_handler(CommandHandler('start',start,pass_args=True))\n",
        "updater.dispatcher.add_handler(CommandHandler('apply',apply,pass_args=True))\n",
        "updater.dispatcher.add_handler(CommandHandler('help', help,pass_args=True))\n",
        "updater.dispatcher.add_handler(CommandHandler('ContactUS',contactus,pass_args=True))\n",
        "updater.dispatcher.add_handler(CommandHandler('Login', login,pass_args=True))\n",
        "updater.dispatcher.add_handler(CommandHandler('Alumini',alumini,pass_args=True))\n",
        "updater.dispatcher.add_handler(MessageHandler(Filters.text,unknown))\n",
        "updater.dispatcher.add_handler(MessageHandler(Filters.command,unknown))  # Filters out unknown commands\n",
        "  \n",
        "# Filters out unknown messages.\n",
        "updater.dispatcher.add_handler(MessageHandler(Filters.text, unknown_text))\n",
        " "
      ],
      "metadata": {
        "id": "uuENEgeqkP0K"
      },
      "execution_count": null,
      "outputs": []
    },
    {
      "cell_type": "code",
      "source": [
        "updater.start_polling()"
      ],
      "metadata": {
        "id": "P1X-QD2WklFV"
      },
      "execution_count": null,
      "outputs": []
    },
    {
      "cell_type": "code",
      "source": [],
      "metadata": {
        "id": "IOYc3YOEkUEB"
      },
      "execution_count": null,
      "outputs": []
    }
  ]
}